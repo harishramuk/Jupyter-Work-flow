{
 "cells": [
  {
   "cell_type": "code",
   "execution_count": 1,
   "metadata": {},
   "outputs": [],
   "source": [
    "#Dict data type\n",
    "#key :value\n",
    "#d={k1:v1,k2:v2,k3:v3}\n"
   ]
  },
  {
   "cell_type": "code",
   "execution_count": 12,
   "metadata": {},
   "outputs": [
    {
     "name": "stdout",
     "output_type": "stream",
     "text": [
      "<class 'dict'>\n",
      "{100: 'harris', 200: 'hack', 300: 'punk'}\n"
     ]
    }
   ],
   "source": [
    "d = { 100:'harris' , 200:'hack' , 300:'punk' }\n",
    "print(type(d))\n",
    "print(d)"
   ]
  },
  {
   "cell_type": "code",
   "execution_count": 21,
   "metadata": {},
   "outputs": [
    {
     "name": "stdout",
     "output_type": "stream",
     "text": [
      "<class 'dict'>\n",
      "{10: 'mom', 20: 'god', 30: 'dad'}\n",
      "{10: 'mom', 20: 'sis', 30: 'dad'}\n"
     ]
    }
   ],
   "source": [
    "d = {}\n",
    "d[10]='mom'\n",
    "d[20]='god'\n",
    "d[30]='dad'\n",
    "print(type(d))\n",
    "print(d)\n",
    "d[20]='sis'\n",
    "print(d)"
   ]
  },
  {
   "cell_type": "code",
   "execution_count": 23,
   "metadata": {},
   "outputs": [
    {
     "name": "stdout",
     "output_type": "stream",
     "text": [
      "{10: 'dad', 20: 'god'}\n",
      "{10: 'mom', 20: 'mom', 30: 'dad'}\n"
     ]
    }
   ],
   "source": [
    "#key name is alredy avable ,so old key value change to new key value\n",
    "#keys name is not alowed but key values alowed\n",
    "d = {}\n",
    "d[10]='mom'\n",
    "d[20]='god'\n",
    "d[10]='dad'\n",
    "print(d)\n",
    "d = {}\n",
    "d[10]='mom'\n",
    "d[20]='mom'\n",
    "d[30]='dad'\n",
    "print(d)"
   ]
  },
  {
   "cell_type": "code",
   "execution_count": null,
   "metadata": {},
   "outputs": [],
   "source": []
  }
 ],
 "metadata": {
  "kernelspec": {
   "display_name": "Python 3",
   "language": "python",
   "name": "python3"
  },
  "language_info": {
   "codemirror_mode": {
    "name": "ipython",
    "version": 3
   },
   "file_extension": ".py",
   "mimetype": "text/x-python",
   "name": "python",
   "nbconvert_exporter": "python",
   "pygments_lexer": "ipython3",
   "version": "3.7.3"
  }
 },
 "nbformat": 4,
 "nbformat_minor": 2
}
