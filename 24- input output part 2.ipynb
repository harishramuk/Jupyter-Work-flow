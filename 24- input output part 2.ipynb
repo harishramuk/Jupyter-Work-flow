{
 "cells": [
  {
   "cell_type": "code",
   "execution_count": 1,
   "metadata": {},
   "outputs": [
    {
     "name": "stdout",
     "output_type": "stream",
     "text": [
      "enter the first value:5\n",
      "enter the second value:5\n",
      "the sum: 10\n"
     ]
    }
   ],
   "source": [
    "a= int(input('enter the first value:'))\n",
    "b = int(input('enter the second value:'))\n",
    "print('the sum:',(a+b))"
   ]
  },
  {
   "cell_type": "code",
   "execution_count": 2,
   "metadata": {},
   "outputs": [
    {
     "name": "stdout",
     "output_type": "stream",
     "text": [
      "enter the number5\n",
      "enter the number5\n",
      "sum : 10\n",
      "<class 'int'>\n"
     ]
    }
   ],
   "source": [
    "# part 1 multiple line\n",
    "\n",
    "a = input('enter the number')\n",
    "b = input('enter the number')\n",
    "c = int(a)\n",
    "d = int(b)\n",
    "print('sum :',(c+d))\n",
    "print(type(c))"
   ]
  },
  {
   "cell_type": "code",
   "execution_count": 3,
   "metadata": {},
   "outputs": [
    {
     "name": "stdout",
     "output_type": "stream",
     "text": [
      "enter the number5\n",
      "enter the number5\n",
      "sum: 55\n"
     ]
    }
   ],
   "source": [
    "# part 2 two line\n",
    "\n",
    "a = input('enter the number')\n",
    "b = input('enter the number')\n",
    "print('sum:',(a+b))"
   ]
  },
  {
   "cell_type": "code",
   "execution_count": 1,
   "metadata": {},
   "outputs": [
    {
     "name": "stdout",
     "output_type": "stream",
     "text": [
      "enter first value:5\n",
      "enter second value:5\n",
      "the sum: 10\n"
     ]
    }
   ],
   "source": [
    "#part 3 single line\n",
    "\n",
    "print('the sum:',int(input('enter first value:')) + int(input('enter second value:')))"
   ]
  },
  {
   "cell_type": "code",
   "execution_count": 10,
   "metadata": {},
   "outputs": [
    {
     "name": "stdout",
     "output_type": "stream",
     "text": [
      "Enter Employe Number:1000\n",
      "Enter Employe Name:CyberPunk\n",
      "Enter Employe Salary:50000\n",
      "Enter Employe Address:Bangalore\n",
      "Is Employe Married?[True|Falsr]:False\n",
      "Plese Confirm Your Provided information\n",
      "Employe Number: 1000\n",
      "Employe Name: CyberPunk\n",
      "Employe Salary: 50000\n",
      "Employe Address: Bangalore\n",
      "Employe Married?: True\n"
     ]
    }
   ],
   "source": [
    "# employe data\n",
    "\n",
    "ENo = int(input('Enter Employe Number:')) \n",
    "EName = input('Enter Employe Name:')\n",
    "ESalary = int(input('Enter Employe Salary:'))ESalary = int(input('Enter Employe Salary:'))\n",
    "\n",
    "EAddress = input('Enter Employe Address:')\n",
    "Married = bool(input('Is Employe Married?[True|Falsr]:'))\n",
    "\n",
    "print('Plese Confirm Your Provided information')\n",
    "print('Employe Number:',ENo )\n",
    "print('Employe Name:',EName )\n",
    "print('Employe Salary:',ESalary )\n",
    "print('Employe Address:',EAddress )\n",
    "print('Employe Married?:',Married )"
   ]
  },
  {
   "cell_type": "code",
   "execution_count": 20,
   "metadata": {},
   "outputs": [
    {
     "name": "stdout",
     "output_type": "stream",
     "text": [
      "Enter Employe Number:100\n",
      "Enter Employe Name:harish\n",
      "Enter Employe Salary:100000\n",
      "Enter Employe Address:chennai\n",
      "Is Employe Married?[True|Falsr]:\n",
      "Plese Confirm Your Provided information\n",
      "Employe Number: 100\n",
      "Employe Name: harish\n",
      "Employe Salary: 100000\n",
      "Employe Address: chennai\n",
      "Employe Married?: False\n"
     ]
    }
   ],
   "source": [
    "EmployeNo = int(input('Enter Employe Number:')) \n",
    "EmployeName = input('Enter Employe Name:')\n",
    "EmployeSalary = int(input('Enter Employe Salary:'))\n",
    "EmployeAddress = input('Enter Employe Address:')\n",
    "EmployeMarried = bool(input('Is Employe Married?[True|Falsr]:'))\n",
    "\n",
    "print('Plese Confirm Your Provided information')\n",
    "print('Employe Number:',EmployeNo )\n",
    "print('Employe Name:',EmployeName )\n",
    "print('Employe Salary:',EmployeSalary )\n",
    "print('Employe Address:',EmployeAddress )\n",
    "print('Employe Married?:',EmployeMarried )"
   ]
  },
  {
   "cell_type": "code",
   "execution_count": 22,
   "metadata": {},
   "outputs": [
    {
     "name": "stdout",
     "output_type": "stream",
     "text": [
      "Enter Employe Number:101\n",
      "Enter Employe Name:100\n",
      "Enter Employe Salary:100000\n",
      "Enter Employe Address:usa\n",
      "Is Employe Married?[True|Falsr]:\n",
      "Plese Confirm Your Provided information\n",
      "Employe Number: 101\n",
      "Employe Name: 100\n",
      "Employe Salary: 100000\n",
      "Employe Address: usa\n",
      "Employe Married?: False\n"
     ]
    }
   ],
   "source": [
    "Employe_No = int(input('Enter Employe Number:')) \n",
    "Employe_Name = input('Enter Employe Name:')\n",
    "Employe_Salary = int(input('Enter Employe Salary:'))\n",
    "Employe_Address = input('Enter Employe Address:')\n",
    "Employe_Married = bool(input('Is Employe Married?[True|Falsr]:'))\n",
    "\n",
    "print('Plese Confirm Your Provided information')\n",
    "print('Employe Number:',Employe_No )\n",
    "print('Employe Name:',Employe_Name )\n",
    "print('Employe Salary:',Employe_Salary )\n",
    "print('Employe Address:',Employe_Address )\n",
    "print('Employe Married?:',Employe_Married )"
   ]
  },
  {
   "cell_type": "code",
   "execution_count": 29,
   "metadata": {},
   "outputs": [
    {
     "name": "stdout",
     "output_type": "stream",
     "text": [
      "Enter Employe Number:2000\n",
      "Enter Employe Name:Hack\n",
      "Enter Employe Salary:50000000\n",
      "Enter Employe Address:US\n",
      "Is Employe Married?[True|False]:False\n",
      "Plese Confirm Your Provided information\n",
      "Employe Number: 2000\n",
      "Employe Name: Hack\n",
      "Employe Salary: 50000000\n",
      "Employe Address: US\n",
      "Employe Married?: False\n"
     ]
    }
   ],
   "source": [
    "# we can change 'bool' to \"eval\" function \n",
    "\n",
    "EmployeNo = int(input('Enter Employe Number:')) \n",
    "EmployeName = input('Enter Employe Name:')\n",
    "EmployeSalary = int(input('Enter Employe Salary:'))\n",
    "EmployeAddress = input('Enter Employe Address:')\n",
    "EmployeMarried = eval(input('Is Employe Married?[True|False]:'))\n",
    "\n",
    "print('Plese Confirm Your Provided information')\n",
    "print('Employe Number:',EmployeNo )\n",
    "print('Employe Name:',EmployeName )\n",
    "print('Employe Salary:',EmployeSalary )\n",
    "print('Employe Address:',EmployeAddress )\n",
    "print('Employe Married?:',EmployeMarried )"
   ]
  },
  {
   "cell_type": "code",
   "execution_count": 34,
   "metadata": {},
   "outputs": [
    {
     "name": "stdout",
     "output_type": "stream",
     "text": [
      "Enter Employe Number:535\n",
      "Enter Employe Name:mdjkc\n",
      "Enter Employe Salary:5665\n",
      "Enter Employe Address:kjdjjd\n",
      "Is Employe Married?[True|False]:True\n",
      "Plese Confirm Your Provided information\n",
      "Employe Number: 535\n",
      "Employe Name: mdjkc\n",
      "Employe Salary: 5665\n",
      "Employe Address: kjdjjd\n",
      "Employe Married?: True\n"
     ]
    }
   ],
   "source": [
    "EmployeNo = int(input('Enter Employe Number:')) \n",
    "EmployeName = input('Enter Employe Name:')\n",
    "EmployeSalary = int(input('Enter Employe Salary:'))\n",
    "EmployeAddress = input('Enter Employe Address:')\n",
    "EmployeMarried = eval(input('Is Employe Married?[True|False]:'))\n",
    "\n",
    "print('Plese Confirm Your Provided information')\n",
    "print('Employe Number:',EmployeNo )\n",
    "print('Employe Name:',EmployeName )\n",
    "print('Employe Salary:',EmployeSalary )\n",
    "print('Employe Address:',EmployeAddress )\n",
    "print('Employe Married?:',EmployeMarried )"
   ]
  },
  {
   "cell_type": "code",
   "execution_count": 6,
   "metadata": {},
   "outputs": [
    {
     "name": "stdout",
     "output_type": "stream",
     "text": [
      "enter 2 numbers:10 20\n",
      "the sum: 30\n"
     ]
    }
   ],
   "source": [
    "#How to read multipl values from the keword in a single line\n",
    "# we must use \"space\" in enter 2 value ex= 10 20\n",
    "\n",
    "\n",
    "A,B = [int(x) for x in input('enter 2 numbers:').split()]\n",
    "print('the sum:', A+B)\n"
   ]
  },
  {
   "cell_type": "code",
   "execution_count": 7,
   "metadata": {},
   "outputs": [
    {
     "name": "stdout",
     "output_type": "stream",
     "text": [
      "enter 2 values:10 20\n",
      "10 20 <class 'str'>\n"
     ]
    }
   ],
   "source": [
    "s = input('enter 2 values:')\n",
    "print(s,type(s))"
   ]
  },
  {
   "cell_type": "code",
   "execution_count": 9,
   "metadata": {},
   "outputs": [
    {
     "name": "stdout",
     "output_type": "stream",
     "text": [
      "enter 2 values:10 20\n",
      "['10', '20'] <class 'list'>\n"
     ]
    }
   ],
   "source": [
    "s = input('enter 2 values:')\n",
    "l=s.split()\n",
    "print(l,type(l))"
   ]
  },
  {
   "cell_type": "code",
   "execution_count": 5,
   "metadata": {},
   "outputs": [
    {
     "name": "stdout",
     "output_type": "stream",
     "text": [
      "enter 3 float values with , separation:10,10,10\n",
      "sum: 30.0\n"
     ]
    }
   ],
   "source": [
    "a,b,c=[float(x) for x in input('enter 3 float values with , separation:').split(\",\")]\n",
    "print('sum:', a+b+c)"
   ]
  },
  {
   "cell_type": "code",
   "execution_count": 2,
   "metadata": {},
   "outputs": [
    {
     "name": "stdout",
     "output_type": "stream",
     "text": [
      "enter 3 float numbers with , separation:2,2,2\n",
      "The sum: 8.0\n"
     ]
    }
   ],
   "source": [
    "a,b,c =[float(x) for x in input ('enter 3 float numbers with , separation:').split(',')]\n",
    "print('The sum:',a*b*c)"
   ]
  },
  {
   "cell_type": "code",
   "execution_count": 4,
   "metadata": {},
   "outputs": [
    {
     "name": "stdout",
     "output_type": "stream",
     "text": [
      "enter the value: 50.50\n",
      "<class 'str'>\n"
     ]
    }
   ],
   "source": [
    "# eval function\n",
    "\n",
    "x = input('enter the value: ')\n",
    "print(type(x))"
   ]
  },
  {
   "cell_type": "code",
   "execution_count": 5,
   "metadata": {},
   "outputs": [
    {
     "name": "stdout",
     "output_type": "stream",
     "text": [
      "enter the value:50.50\n",
      "<class 'float'>\n"
     ]
    }
   ],
   "source": [
    "x= eval(input('enter the value:'))\n",
    "print(type(x))"
   ]
  },
  {
   "cell_type": "code",
   "execution_count": 6,
   "metadata": {},
   "outputs": [
    {
     "name": "stdout",
     "output_type": "stream",
     "text": [
      "60 <class 'int'>\n"
     ]
    }
   ],
   "source": [
    "x = eval('10+30+20')\n",
    "print(x,(type(x)))"
   ]
  },
  {
   "cell_type": "code",
   "execution_count": null,
   "metadata": {},
   "outputs": [],
   "source": []
  }
 ],
 "metadata": {
  "kernelspec": {
   "display_name": "Python 3",
   "language": "python",
   "name": "python3"
  },
  "language_info": {
   "codemirror_mode": {
    "name": "ipython",
    "version": 3
   },
   "file_extension": ".py",
   "mimetype": "text/x-python",
   "name": "python",
   "nbconvert_exporter": "python",
   "pygments_lexer": "ipython3",
   "version": "3.7.3"
  }
 },
 "nbformat": 4,
 "nbformat_minor": 2
}
