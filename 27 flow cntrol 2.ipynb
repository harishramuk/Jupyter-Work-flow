{
 "cells": [
  {
   "cell_type": "code",
   "execution_count": 1,
   "metadata": {},
   "outputs": [
    {
     "name": "stdout",
     "output_type": "stream",
     "text": [
      "i=0 and j=0\n",
      "i=0 and j=1\n",
      "i=0 and j=2\n",
      "i=0 and j=3\n",
      "i=1 and j=0\n",
      "i=1 and j=1\n",
      "i=1 and j=2\n",
      "i=1 and j=3\n",
      "i=2 and j=0\n",
      "i=2 and j=1\n",
      "i=2 and j=2\n",
      "i=2 and j=3\n",
      "i=3 and j=0\n",
      "i=3 and j=1\n",
      "i=3 and j=2\n",
      "i=3 and j=3\n"
     ]
    }
   ],
   "source": [
    "#nested loop\n",
    "\n",
    "for i in range(4):\n",
    "    for j in range(4):\n",
    "        \n",
    "        print(\"i={} and j={}\".format(i,j))"
   ]
  },
  {
   "cell_type": "code",
   "execution_count": 2,
   "metadata": {},
   "outputs": [
    {
     "name": "stdout",
     "output_type": "stream",
     "text": [
      "enter the number of rows:5\n",
      "# \n",
      "# # \n",
      "# # # \n",
      "# # # # \n",
      "# # # # # \n"
     ]
    }
   ],
   "source": [
    "n = int(input('enter the number of rows:'))\n",
    "for i in range(1,n+1):\n",
    "    for j in range (i):\n",
    "        print('#',end=\" \")\n",
    "    print()    "
   ]
  },
  {
   "cell_type": "code",
   "execution_count": 25,
   "metadata": {},
   "outputs": [
    {
     "name": "stdout",
     "output_type": "stream",
     "text": [
      "enter the number of rows:10\n",
      "# \n",
      "# # \n",
      "# # # \n",
      "# # # # \n",
      "# # # # # \n",
      "# # # # # # \n",
      "# # # # # # # \n",
      "# # # # # # # # \n",
      "# # # # # # # # # \n",
      "# # # # # # # # # # \n"
     ]
    }
   ],
   "source": [
    "n = int(input('enter the number of rows:'))\n",
    "for i in range(1,n+1):\n",
    "    for j in range (i):\n",
    "        print('#',end=\" \")\n",
    "    print()\n",
    "        "
   ]
  },
  {
   "cell_type": "code",
   "execution_count": 18,
   "metadata": {},
   "outputs": [
    {
     "name": "stdout",
     "output_type": "stream",
     "text": [
      "enter the row :4\n",
      "@ @ @ @ \n",
      "@ @ @ @ \n",
      "@ @ @ @ \n",
      "@ @ @ @ \n"
     ]
    }
   ],
   "source": [
    "n = int(input('enter the row :'))\n",
    "for i in range(n):\n",
    "    for j in range(n):\n",
    "        print('@',end = \" \")\n",
    "    print()    "
   ]
  },
  {
   "cell_type": "code",
   "execution_count": 21,
   "metadata": {},
   "outputs": [
    {
     "name": "stdout",
     "output_type": "stream",
     "text": [
      "enter the row :4\n",
      "@ @ @ @ \n",
      "@ @ @ @ \n",
      "@ @ @ @ \n",
      "@ @ @ @ \n",
      "@ @ @ @ \n"
     ]
    }
   ],
   "source": [
    "n = int(input('enter the row :'))\n",
    "for i in range(n+1): # 4+1 = 5 rows \n",
    "    for j in range(n):# n=4 \n",
    "        print('@',end = \" \")\n",
    "    print()    "
   ]
  },
  {
   "cell_type": "code",
   "execution_count": 22,
   "metadata": {},
   "outputs": [
    {
     "name": "stdout",
     "output_type": "stream",
     "text": [
      "enter the row :4\n",
      "0\n",
      "1\n",
      "2\n",
      "3\n"
     ]
    }
   ],
   "source": [
    "n = int(input('enter the row :'))\n",
    "for i in range(n):\n",
    "    print(i)   "
   ]
  },
  {
   "cell_type": "code",
   "execution_count": 1,
   "metadata": {},
   "outputs": [
    {
     "name": "stdout",
     "output_type": "stream",
     "text": [
      "enter the row :4\n",
      "#\n",
      "##\n",
      "###\n",
      "####\n"
     ]
    }
   ],
   "source": [
    "n = int(input('enter the row :'))\n",
    "for i in range(1,n+1):\n",
    "    print('#'*i)\n",
    "       "
   ]
  },
  {
   "cell_type": "code",
   "execution_count": 4,
   "metadata": {},
   "outputs": [
    {
     "name": "stdout",
     "output_type": "stream",
     "text": [
      "card in item 10\n",
      "card in item 20\n",
      "card in item 30\n",
      "item value is high plz put insurence\n"
     ]
    }
   ],
   "source": [
    "#Transfer ststement\n",
    "\n",
    "#1 - break\n",
    "#2= continue\n",
    "#3= pass\n",
    "\n",
    "\n",
    "#Break\n",
    "\n",
    "card = [10,20,30,600,50,500]\n",
    "for item in card:\n",
    "    if item>=500:\n",
    "        print('item value is high plz put insurence')\n",
    "        break\n",
    "    print('card in item',item)    "
   ]
  },
  {
   "cell_type": "code",
   "execution_count": null,
   "metadata": {},
   "outputs": [],
   "source": []
  }
 ],
 "metadata": {
  "kernelspec": {
   "display_name": "Python 3",
   "language": "python",
   "name": "python3"
  },
  "language_info": {
   "codemirror_mode": {
    "name": "ipython",
    "version": 3
   },
   "file_extension": ".py",
   "mimetype": "text/x-python",
   "name": "python",
   "nbconvert_exporter": "python",
   "pygments_lexer": "ipython3",
   "version": "3.7.4"
  }
 },
 "nbformat": 4,
 "nbformat_minor": 2
}
