{
 "cells": [
  {
   "cell_type": "code",
   "execution_count": 2,
   "metadata": {},
   "outputs": [
    {
     "name": "stdout",
     "output_type": "stream",
     "text": [
      "30\n"
     ]
    }
   ],
   "source": [
    "# +=, -=, *=, /=, %=, //=, **=, &=, |=, ^=, <<=, >>= .\n",
    "# ex \n",
    "#  1) x = 10\n",
    "#     x += 20\n",
    "#     x = x + 20\n",
    "#     x = 10 + 20\n",
    "#     x = 30 ans\n",
    "\n",
    "x= 10\n",
    "\n",
    "x += 20\n",
    "print(x)"
   ]
  },
  {
   "cell_type": "code",
   "execution_count": 3,
   "metadata": {},
   "outputs": [
    {
     "name": "stdout",
     "output_type": "stream",
     "text": [
      "-10\n"
     ]
    }
   ],
   "source": [
    "x = 10\n",
    "x -= 20\n",
    "print(x)"
   ]
  },
  {
   "cell_type": "code",
   "execution_count": 7,
   "metadata": {},
   "outputs": [
    {
     "name": "stdout",
     "output_type": "stream",
     "text": [
      "15\n"
     ]
    }
   ],
   "source": [
    "x = 10\n",
    "x |= 5\n",
    "print(x)"
   ]
  },
  {
   "cell_type": "code",
   "execution_count": 6,
   "metadata": {},
   "outputs": [
    {
     "data": {
      "text/plain": [
       "15"
      ]
     },
     "execution_count": 6,
     "metadata": {},
     "output_type": "execute_result"
    }
   ],
   "source": [
    "int(0b1111)"
   ]
  },
  {
   "cell_type": "code",
   "execution_count": 8,
   "metadata": {},
   "outputs": [
    {
     "name": "stdout",
     "output_type": "stream",
     "text": [
      "100\n"
     ]
    }
   ],
   "source": [
    "x = 10\n",
    "x **= 2\n",
    "print(x)"
   ]
  },
  {
   "cell_type": "code",
   "execution_count": 9,
   "metadata": {},
   "outputs": [
    {
     "ename": "SyntaxError",
     "evalue": "invalid syntax (<ipython-input-9-60ef4d605145>, line 2)",
     "output_type": "error",
     "traceback": [
      "\u001b[1;36m  File \u001b[1;32m\"<ipython-input-9-60ef4d605145>\"\u001b[1;36m, line \u001b[1;32m2\u001b[0m\n\u001b[1;33m    x++\u001b[0m\n\u001b[1;37m       ^\u001b[0m\n\u001b[1;31mSyntaxError\u001b[0m\u001b[1;31m:\u001b[0m invalid syntax\n"
     ]
    }
   ],
   "source": [
    "x = 10\n",
    "x++\n",
    "print(x)"
   ]
  },
  {
   "cell_type": "code",
   "execution_count": 10,
   "metadata": {},
   "outputs": [
    {
     "ename": "SyntaxError",
     "evalue": "invalid syntax (<ipython-input-10-b058e79bff01>, line 2)",
     "output_type": "error",
     "traceback": [
      "\u001b[1;36m  File \u001b[1;32m\"<ipython-input-10-b058e79bff01>\"\u001b[1;36m, line \u001b[1;32m2\u001b[0m\n\u001b[1;33m    x--\u001b[0m\n\u001b[1;37m       ^\u001b[0m\n\u001b[1;31mSyntaxError\u001b[0m\u001b[1;31m:\u001b[0m invalid syntax\n"
     ]
    }
   ],
   "source": [
    "x = 10\n",
    "x--\n",
    "print(x)"
   ]
  },
  {
   "cell_type": "code",
   "execution_count": 11,
   "metadata": {},
   "outputs": [
    {
     "name": "stdout",
     "output_type": "stream",
     "text": [
      "10\n",
      "10\n",
      "-10\n",
      "10\n"
     ]
    }
   ],
   "source": [
    "x = 10\n",
    "print(++x)\n",
    "print(++++x)\n",
    "print(-x)\n",
    "print(--x)"
   ]
  },
  {
   "cell_type": "code",
   "execution_count": 12,
   "metadata": {},
   "outputs": [
    {
     "name": "stdout",
     "output_type": "stream",
     "text": [
      "30\n"
     ]
    }
   ],
   "source": [
    "print(++20++10)"
   ]
  },
  {
   "cell_type": "code",
   "execution_count": 13,
   "metadata": {},
   "outputs": [
    {
     "name": "stdout",
     "output_type": "stream",
     "text": [
      "-10\n"
     ]
    }
   ],
   "source": [
    "print(++-20++x)"
   ]
  },
  {
   "cell_type": "code",
   "execution_count": 14,
   "metadata": {},
   "outputs": [],
   "source": [
    "# Ternary operator\n",
    "# ~a = unary operator\n",
    "# in python operator applicable for one argument ment that is called unary operator. \n",
    "\n",
    "# a + b = binary operator\n",
    "# in python operator applicable for two argument ment that is called unary operator.\n",
    "\n",
    "# 3 argument = trenary operator\n",
    "# a = 10\n",
    "# b = 20\n",
    "# c = 30 if a>b else 40 ---->this is tha trenary argument\n",
    "# 30 = is one argument\n",
    "# a>b = is 2 argument\n",
    "# 40 = is 3 argument so this is tha trenary argument\n",
    "\n",
    "# trenary operator syntax\n",
    "# c = first_value is condition else second_value"
   ]
  },
  {
   "cell_type": "code",
   "execution_count": 16,
   "metadata": {},
   "outputs": [
    {
     "name": "stdout",
     "output_type": "stream",
     "text": [
      "40\n"
     ]
    }
   ],
   "source": [
    "a = 10\n",
    "b = 20\n",
    "c = 30 if a>b else 40\n",
    "print(c)"
   ]
  },
  {
   "cell_type": "code",
   "execution_count": 5,
   "metadata": {},
   "outputs": [
    {
     "name": "stdout",
     "output_type": "stream",
     "text": [
      "Enter the First value:2000\n",
      "Enter the Second value:100\n",
      "the minimum value : 100\n"
     ]
    }
   ],
   "source": [
    "# ternary operator\n",
    "\n",
    "\n",
    "a = int(input('Enter the First value:'))\n",
    "b = int(input('Enter the Second value:'))\n",
    "min = a if a<b else b\n",
    "print('the minimum value :', min)"
   ]
  },
  {
   "cell_type": "code",
   "execution_count": 12,
   "metadata": {},
   "outputs": [
    {
     "name": "stdout",
     "output_type": "stream",
     "text": [
      "enter the first value:10\n",
      "enter the second value:-5\n",
      "enter the third value:-3\n",
      "the minimum value: -5\n"
     ]
    }
   ],
   "source": [
    "#part 2\n",
    "\n",
    "a = int(input('enter the first value:'))\n",
    "b = int(input('enter the second value:'))\n",
    "c = int(input('enter the third value:'))\n",
    "\n",
    "min = a if a<b and a<c else b if b<c else c\n",
    "print('the minimum value:',min)\n"
   ]
  },
  {
   "cell_type": "code",
   "execution_count": 1,
   "metadata": {},
   "outputs": [
    {
     "name": "stdout",
     "output_type": "stream",
     "text": [
      "enter the first value:100\n",
      "enter the second value:3000\n",
      "enter the third value:500\n",
      "the maximum value: 3000\n"
     ]
    }
   ],
   "source": [
    "\n",
    "a = int(input('enter the first value:'))\n",
    "b = int(input('enter the second value:'))\n",
    "c = int(input('enter the third value:'))\n",
    "\n",
    "max = a if a>b and a>c else b if b>c else c\n",
    "print('the maximum value:',max)\n"
   ]
  },
  {
   "cell_type": "code",
   "execution_count": 2,
   "metadata": {},
   "outputs": [
    {
     "name": "stdout",
     "output_type": "stream",
     "text": [
      "enter the first value:10\n",
      "enter the second value:20\n",
      "smaller\n"
     ]
    }
   ],
   "source": [
    "#a & b\n",
    "\n",
    "a = int(input('enter the first value:'))\n",
    "b = int(input('enter the second value:'))\n",
    "\n",
    "result = 'equal' if a==b else 'smaller' if a<b else 'bigger'\n",
    "print(result)"
   ]
  },
  {
   "cell_type": "code",
   "execution_count": null,
   "metadata": {},
   "outputs": [],
   "source": []
  }
 ],
 "metadata": {
  "kernelspec": {
   "display_name": "Python 3",
   "language": "python",
   "name": "python3"
  },
  "language_info": {
   "codemirror_mode": {
    "name": "ipython",
    "version": 3
   },
   "file_extension": ".py",
   "mimetype": "text/x-python",
   "name": "python",
   "nbconvert_exporter": "python",
   "pygments_lexer": "ipython3",
   "version": "3.7.3"
  }
 },
 "nbformat": 4,
 "nbformat_minor": 2
}
