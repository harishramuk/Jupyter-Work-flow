{
 "cells": [
  {
   "cell_type": "code",
   "execution_count": 1,
   "metadata": {},
   "outputs": [
    {
     "name": "stdout",
     "output_type": "stream",
     "text": [
      "enter any string of alpha numeric charaters 9F8E7G6A4D5C3B1A2\n",
      "123456789AABCDEFG\n"
     ]
    }
   ],
   "source": [
    "s= input('enter any string of alpha numeric charaters ')\n",
    "s1=s2=output=''\n",
    "for i in s:\n",
    "    if i.isnumeric():\n",
    "        s1=s1+i\n",
    "    else:\n",
    "        s2=s2+i\n",
    "for i in sorted(s1):\n",
    "    output = output+i\n",
    "for i in sorted (s2):\n",
    "    output = output+i\n",
    "print(output)    "
   ]
  },
  {
   "cell_type": "code",
   "execution_count": 2,
   "metadata": {},
   "outputs": [
    {
     "name": "stdout",
     "output_type": "stream",
     "text": [
      "enter any stringa4b5c6\n",
      "aaaabbbbbcccccc\n"
     ]
    }
   ],
   "source": [
    "#a4b5c6 = aaaabbbbbcccccc\n",
    "\n",
    "\n",
    "s = input('enter any string')\n",
    "output=''\n",
    "for x in s:\n",
    "    if x.isalpha():         # -------abc\n",
    "        output=output+x      #-------a\n",
    "        previous=x          #------a \n",
    "    else:\n",
    "        output = output+previous*(int(x)-1)        #------output=a+previous =a*(int(4-1))==a+(a*3)=aaaa\n",
    "print(output)\n"
   ]
  },
  {
   "cell_type": "code",
   "execution_count": 3,
   "metadata": {},
   "outputs": [
    {
     "name": "stdout",
     "output_type": "stream",
     "text": [
      "enter any stringa0b2c3\n",
      "abbccc\n"
     ]
    }
   ],
   "source": [
    "s = input('enter any string')\n",
    "output=''\n",
    "for x in s:\n",
    "    if x.isalpha():         # -------abc\n",
    "        output=output+x      #-------a\n",
    "        previous=x          #------a \n",
    "    else:\n",
    "        output = output+previous*(int(x)-1)        #------output=a+previous =a*(int(4-1))==a+(a*3)=aaaa\n",
    "print(output)"
   ]
  },
  {
   "cell_type": "code",
   "execution_count": 16,
   "metadata": {},
   "outputs": [
    {
     "name": "stdout",
     "output_type": "stream",
     "text": [
      "enter the string:a43b\n",
      "aedb\n"
     ]
    }
   ],
   "source": [
    "#a4 chr or ord this arithametic operation\n",
    "#a4==-->ae ans\n",
    "\n",
    "s= input('enter the string:')  \n",
    "output=''\n",
    "for x in s:\n",
    "    if x.isalpha():\n",
    "        output=output+x\n",
    "        previous=x\n",
    "    else:\n",
    "        newch=chr(ord(previous)+int(x))\n",
    "        output=output+newch\n",
    "print(output)        \n",
    "        "
   ]
  },
  {
   "cell_type": "code",
   "execution_count": 35,
   "metadata": {},
   "outputs": [
    {
     "name": "stdout",
     "output_type": "stream",
     "text": [
      "enter the string:4ab3\n",
      "fabe\n"
     ]
    }
   ],
   "source": [
    "s= input('enter the string:')\n",
    "output=''\n",
    "for x in s:\n",
    "    if x.isalpha():\n",
    "        output=output+x\n",
    "        previous=x\n",
    "        \n",
    "    else:\n",
    "        newch=chr(ord(previous)+int(x))\n",
    "        output=output+newch\n",
    "print(output)\n"
   ]
  },
  {
   "cell_type": "code",
   "execution_count": 38,
   "metadata": {},
   "outputs": [
    {
     "name": "stdout",
     "output_type": "stream",
     "text": [
      "enter the string:5ac3\n",
      "hacf\n"
     ]
    }
   ],
   "source": [
    "s= input('enter the string:')\n",
    "output=''\n",
    "for x in s:\n",
    "    if x.isalpha():\n",
    "        output=output+x\n",
    "        previous=x\n",
    "        \n",
    "    else:\n",
    "        newch=chr(ord(previous)+int(x))\n",
    "        output=output+newch\n",
    "print(output)\n"
   ]
  },
  {
   "cell_type": "code",
   "execution_count": 5,
   "metadata": {},
   "outputs": [
    {
     "name": "stdout",
     "output_type": "stream",
     "text": [
      "enter the string:harris\n",
      "h,a,r,r,i,s,"
     ]
    }
   ],
   "source": [
    "s= input('enter the string:')\n",
    "output=''\n",
    "i=0\n",
    "while i<len(s):\n",
    "    print (s[i],end=',')\n",
    "    i=i+1"
   ]
  },
  {
   "cell_type": "code",
   "execution_count": 21,
   "metadata": {},
   "outputs": [
    {
     "name": "stdout",
     "output_type": "stream",
     "text": [
      "['harris', 'hack', 'punk']\n",
      "['harris', 'hack', 'punk']\n",
      "['harris', 'hack', 'punk']\n"
     ]
    }
   ],
   "source": [
    "s= ['harris','hack','punk']\n",
    "\n",
    "for i in s:\n",
    "    print (s)\n",
    "    "
   ]
  },
  {
   "cell_type": "code",
   "execution_count": 24,
   "metadata": {},
   "outputs": [
    {
     "name": "stdout",
     "output_type": "stream",
     "text": [
      "enter the str:harris\n",
      "h,a,r,r,i,s,"
     ]
    }
   ],
   "source": [
    "s= input('enter the str:')\n",
    "for i in s:\n",
    "    print((i),end=',')\n",
    "    "
   ]
  },
  {
   "cell_type": "code",
   "execution_count": 29,
   "metadata": {},
   "outputs": [
    {
     "name": "stdout",
     "output_type": "stream",
     "text": [
      "enter the list:[10,20,30]\n",
      "60\n"
     ]
    }
   ],
   "source": [
    "l=eval(input('enter the list:'))\n",
    "output=0\n",
    "for x in l:\n",
    "    output=output+x\n",
    "print(output)    "
   ]
  },
  {
   "cell_type": "code",
   "execution_count": null,
   "metadata": {},
   "outputs": [],
   "source": []
  }
 ],
 "metadata": {
  "kernelspec": {
   "display_name": "Python 3",
   "language": "python",
   "name": "python3"
  },
  "language_info": {
   "codemirror_mode": {
    "name": "ipython",
    "version": 3
   },
   "file_extension": ".py",
   "mimetype": "text/x-python",
   "name": "python",
   "nbconvert_exporter": "python",
   "pygments_lexer": "ipython3",
   "version": "3.7.4"
  }
 },
 "nbformat": 4,
 "nbformat_minor": 2
}
