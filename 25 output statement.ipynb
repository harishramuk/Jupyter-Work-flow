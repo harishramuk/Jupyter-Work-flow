{
 "cells": [
  {
   "cell_type": "code",
   "execution_count": 1,
   "metadata": {},
   "outputs": [
    {
     "name": "stdout",
     "output_type": "stream",
     "text": [
      "harris\n",
      "\n",
      "hack\n"
     ]
    }
   ],
   "source": [
    "#print()whit out any argument \n",
    "\n",
    "print('harris')\n",
    "print()\n",
    "print('hack')"
   ]
  },
  {
   "cell_type": "code",
   "execution_count": 4,
   "metadata": {},
   "outputs": [
    {
     "name": "stdout",
     "output_type": "stream",
     "text": [
      "the value: 10 20 30\n"
     ]
    }
   ],
   "source": [
    "a,b,c = 10,20,30\n",
    "print('the value:',a,b,c)\n"
   ]
  },
  {
   "cell_type": "code",
   "execution_count": 5,
   "metadata": {},
   "outputs": [
    {
     "name": "stdout",
     "output_type": "stream",
     "text": [
      "10 20 30 40\n",
      "10:20:30:40\n",
      "10p20p30p40\n",
      "10--20--30--40\n",
      "10+20+30+40\n",
      "10%20%30%40\n"
     ]
    }
   ],
   "source": [
    "# sep attribut ---seprator operator\n",
    "\n",
    "a,b,c,d = 10,20,30,40\n",
    "print(a,b,c,d)\n",
    "print(a,b,c,d,sep=':')\n",
    "print(a,b,c,d,sep='p')\n",
    "print(a,b,c,d,sep='--')\n",
    "print(a,b,c,d,sep='+')\n",
    "print(a,b,c,d,sep='%')"
   ]
  },
  {
   "cell_type": "code",
   "execution_count": 8,
   "metadata": {},
   "outputs": [
    {
     "name": "stdout",
     "output_type": "stream",
     "text": [
      "hackcyberpunk\n",
      "hack:%:cyber$$$punk\n"
     ]
    }
   ],
   "source": [
    "#end attribut\n",
    "\n",
    "print('hack',end='')\n",
    "print('cyber',end='')\n",
    "print('punk')\n",
    "\n",
    "print('hack',end=':%:')\n",
    "print('cyber',end='$$$')\n",
    "print('punk')"
   ]
  },
  {
   "cell_type": "code",
   "execution_count": 9,
   "metadata": {},
   "outputs": [
    {
     "name": "stdout",
     "output_type": "stream",
     "text": [
      "10!20!30###40:50:60\n",
      "70<<80***90 100\n"
     ]
    }
   ],
   "source": [
    "print(10,20,30,sep='!',end=('###'))\n",
    "print(40,50,60,sep=':')\n",
    "print(70,80,sep='<<',end='***')\n",
    "print(90,100)"
   ]
  },
  {
   "cell_type": "code",
   "execution_count": 15,
   "metadata": {},
   "outputs": [
    {
     "name": "stdout",
     "output_type": "stream",
     "text": [
      "hellow cyber,your salary is 50000 and your friend isai is waiting\n",
      "hellow cyber,your salary is 50000 and your friend isai is waiting\n",
      "hellow cyber,your salary is 50000 and your friend isai is waiting\n"
     ]
    }
   ],
   "source": [
    "#print () with replacement operator {}\n",
    "\n",
    "#my requirment\n",
    "# hellow cyber ,your salary is 50000 and your friend isai is waiting.\n",
    "\n",
    "name =('cyber')\n",
    "salary=(50000)\n",
    "gf=('isai')\n",
    "\n",
    "print('hellow {},your salary is {} and your friend {} is waiting'.format(name,salary,gf))\n",
    "print('hellow {0},your salary is {1} and your friend {2} is waiting'.format(name,salary,gf))\n",
    "print('hellow {n},your salary is {s} and your friend {f} is waiting'.format(n=name,s=salary,f=gf))"
   ]
  },
  {
   "cell_type": "code",
   "execution_count": 20,
   "metadata": {},
   "outputs": [
    {
     "name": "stdout",
     "output_type": "stream",
     "text": [
      "a= 10 b= 20 c= 30\n"
     ]
    }
   ],
   "source": [
    "a,b,c= 10,20,30\n",
    "print('a=',a,'b=',b,'c=',c)"
   ]
  },
  {
   "cell_type": "code",
   "execution_count": 21,
   "metadata": {},
   "outputs": [
    {
     "name": "stdout",
     "output_type": "stream",
     "text": [
      "a value= 10\n"
     ]
    }
   ],
   "source": [
    "#print() with formet srt\n",
    "a = 10\n",
    "print('a value= %i' %a)"
   ]
  },
  {
   "cell_type": "code",
   "execution_count": 27,
   "metadata": {},
   "outputs": [
    {
     "name": "stdout",
     "output_type": "stream",
     "text": [
      "a=10,b=20,c=30\n",
      "a=10,b=20,c=30.000000\n",
      "a=10,b=20.000000,c=30\n"
     ]
    }
   ],
   "source": [
    "a,b,c=10,20,30\n",
    "print('a=%d,b=%d,c=%d' %(a,b,c))\n",
    "print('a=%d,b=%i,c=%f' %(a,b,c))\n",
    "print('a=%s,b=%f,c=%s' %(a,b,c))\n"
   ]
  },
  {
   "cell_type": "code",
   "execution_count": 37,
   "metadata": {},
   "outputs": [
    {
     "name": "stdout",
     "output_type": "stream",
     "text": [
      "hellow harish,your mark [10, 20, 30, 40]\n",
      "hellow harish,your mark [10, 20, 30, 40]\n"
     ]
    }
   ],
   "source": [
    "name = \"harish\"\n",
    "marks= [10,20,30,40]\n",
    "print('hellow %s,your mark %s' %(name,marks))\n",
    "print('hellow %s,your mark %s' %(name,marks))"
   ]
  },
  {
   "cell_type": "code",
   "execution_count": 50,
   "metadata": {},
   "outputs": [
    {
     "name": "stdout",
     "output_type": "stream",
     "text": [
      "value= 70.56789\n",
      "value= 70.567890\n",
      "value 70.57\n",
      "value 70\n",
      "value 70\n",
      "value 70.56789\n"
     ]
    }
   ],
   "source": [
    "price = 70.56789\n",
    "print('value= {}'.format(price))\n",
    "print('value= %f' %price)\n",
    "print('value %.2f' %price)\n",
    "print('value %i' %price)\n",
    "print('value %d' %price)\n",
    "print('value %s' %price)"
   ]
  },
  {
   "cell_type": "code",
   "execution_count": null,
   "metadata": {},
   "outputs": [],
   "source": []
  }
 ],
 "metadata": {
  "kernelspec": {
   "display_name": "Python 3",
   "language": "python",
   "name": "python3"
  },
  "language_info": {
   "codemirror_mode": {
    "name": "ipython",
    "version": 3
   },
   "file_extension": ".py",
   "mimetype": "text/x-python",
   "name": "python",
   "nbconvert_exporter": "python",
   "pygments_lexer": "ipython3",
   "version": "3.7.4"
  }
 },
 "nbformat": 4,
 "nbformat_minor": 2
}
