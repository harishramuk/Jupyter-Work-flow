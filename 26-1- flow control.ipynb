{
 "cells": [
  {
   "cell_type": "code",
   "execution_count": 1,
   "metadata": {},
   "outputs": [],
   "source": [
    "#condition statement or selection statement \n",
    "\n",
    "#if \n",
    "#if elif\n",
    "#if elif else\n",
    "#if elif\n",
    "\n"
   ]
  },
  {
   "cell_type": "code",
   "execution_count": 9,
   "metadata": {},
   "outputs": [
    {
     "name": "stdout",
     "output_type": "stream",
     "text": [
      "enter name:harris\n",
      "hai harris\n",
      "how r u\n"
     ]
    }
   ],
   "source": [
    "#1 -if condiction\n",
    "name= input('enter name:')\n",
    "if name == ('harris'):\n",
    "   print('hai harris')\n",
    "print('how r u')    \n",
    "    \n",
    "       "
   ]
  },
  {
   "cell_type": "code",
   "execution_count": 8,
   "metadata": {},
   "outputs": [
    {
     "name": "stdout",
     "output_type": "stream",
     "text": [
      "enter the namecyber\n",
      "hai cyber\n",
      "how r u\n"
     ]
    }
   ],
   "source": [
    "name = input('enter the name:')\n",
    "if name =='cyber':\n",
    "   print('hai cyber')\n",
    "print('how r u')   "
   ]
  },
  {
   "cell_type": "code",
   "execution_count": 13,
   "metadata": {},
   "outputs": [
    {
     "name": "stdout",
     "output_type": "stream",
     "text": [
      "enter brand name:knockout\n",
      "no brand\n"
     ]
    }
   ],
   "source": [
    "brand =input('enter brand name:')\n",
    "if brand == 'KF':\n",
    "    print('super beer')\n",
    "elif brand == 'knock out':\n",
    "    print('nice beer')\n",
    "elif brand == 'buliet':\n",
    "    print('first class')\n",
    "else:\n",
    "    print('no brand')\n",
    "\n",
    "    \n",
    "    \n"
   ]
  },
  {
   "cell_type": "code",
   "execution_count": 15,
   "metadata": {},
   "outputs": [
    {
     "name": "stdout",
     "output_type": "stream",
     "text": [
      "enter brand name:knock out\n",
      "nice beer\n"
     ]
    }
   ],
   "source": [
    "brand =input('enter brand name:')\n",
    "if brand == 'KF':\n",
    "    print('super beer')\n",
    "elif brand == 'knock out':\n",
    "    print('nice beer')"
   ]
  },
  {
   "cell_type": "code",
   "execution_count": 22,
   "metadata": {},
   "outputs": [
    {
     "name": "stdout",
     "output_type": "stream",
     "text": [
      "enter the first no:10\n",
      "enter the second no:20\n",
      "enter the third no:30\n",
      "30\n"
     ]
    }
   ],
   "source": [
    "n1 = eval(input('enter the first no:'))\n",
    "n2 = eval(input('enter the second no:'))\n",
    "n3 = eval(input('enter the third no:'))\n",
    "if n1>n2 and n1>n3:\n",
    "    print(n1)\n",
    "elif n2>n3:\n",
    "    print(n2)\n",
    "else:\n",
    "    print(n3)"
   ]
  },
  {
   "cell_type": "code",
   "execution_count": 25,
   "metadata": {},
   "outputs": [
    {
     "name": "stdout",
     "output_type": "stream",
     "text": [
      "enter the first no:20\n",
      "enter the second no:30.7\n",
      "enter the third no:30.5\n",
      "biggest no 30.7\n"
     ]
    }
   ],
   "source": [
    "n1 = eval(input('enter the first no:'))\n",
    "n2 = eval(input('enter the second no:'))\n",
    "n3 = eval(input('enter the third no:'))\n",
    "if n1>n2 and n1>n3:\n",
    "    print('biggest no',n1)\n",
    "elif n2>n3:\n",
    "    print('biggest no',n2)\n",
    "else:\n",
    "    print('biggest no',n3)"
   ]
  },
  {
   "cell_type": "code",
   "execution_count": 27,
   "metadata": {},
   "outputs": [
    {
     "name": "stdout",
     "output_type": "stream",
     "text": [
      "enter the first no:'harris'\n",
      "enter the second no:'cyber'\n",
      "enter the third no:'hack'\n",
      "biggest no harris\n"
     ]
    }
   ],
   "source": [
    "n1 = eval(input('enter the first no:'))\n",
    "n2 = eval(input('enter the second no:'))\n",
    "n3 = eval(input('enter the third no:'))\n",
    "if n1>n2 and n1>n3:\n",
    "    print('biggest no',n1)\n",
    "elif n2>n3:\n",
    "    print('biggest no',n2)\n",
    "else:\n",
    "    print('biggest no',n3)"
   ]
  },
  {
   "cell_type": "code",
   "execution_count": 5,
   "metadata": {},
   "outputs": [
    {
     "name": "stdout",
     "output_type": "stream",
     "text": [
      "enter the number200\n",
      "the number is 200 not in between 1to 100\n"
     ]
    }
   ],
   "source": [
    "\n",
    "n = int(input('enter the number'))\n",
    "if n>=1 and n<=100:\n",
    "    print('tne number is',n, 'in between 1 to 100')\n",
    "else:\n",
    "    print('the number is',n, 'not in between 1to 100')"
   ]
  },
  {
   "cell_type": "code",
   "execution_count": 8,
   "metadata": {},
   "outputs": [
    {
     "name": "stdout",
     "output_type": "stream",
     "text": [
      "enter the number20\n",
      "tne number is 20 in between 1 to 100\n"
     ]
    }
   ],
   "source": [
    "n = int(input('enter the number'))\n",
    "if 1<=n<=100:\n",
    "    print('tne number is',n, 'in between 1 to 100')\n",
    "else:\n",
    "    print('the number is',n, 'not in between 1to 100')"
   ]
  },
  {
   "cell_type": "code",
   "execution_count": 1,
   "metadata": {},
   "outputs": [
    {
     "name": "stdout",
     "output_type": "stream",
     "text": [
      "h\n",
      "a\n",
      "r\n",
      "i\n",
      "s\n",
      "h\n"
     ]
    }
   ],
   "source": [
    "#II iterative statments:\n",
    "# 1- for loop\n",
    "# 2-while loop\n",
    "\n",
    "s= 'harish'\n",
    "count = 0\n",
    "for x in s:\n",
    "    print(x)\n"
   ]
  },
  {
   "cell_type": "code",
   "execution_count": 8,
   "metadata": {},
   "outputs": [
    {
     "name": "stdout",
     "output_type": "stream",
     "text": [
      "index 1 letter h\n",
      "index 2 letter a\n",
      "index 3 letter r\n",
      "index 4 letter r\n",
      "index 5 letter i\n",
      "index 6 letter s\n"
     ]
    }
   ],
   "source": [
    "s = 'harris'\n",
    "i = 1\n",
    "for x in s:\n",
    "    print('index',i,'letter',x)\n",
    "    i+=1"
   ]
  },
  {
   "cell_type": "code",
   "execution_count": 1,
   "metadata": {},
   "outputs": [
    {
     "name": "stdout",
     "output_type": "stream",
     "text": [
      "enter the nameharish\n",
      "index 1 letter a\n",
      "index 2 letter r\n",
      "index 3 letter i\n",
      "index 4 letter s\n",
      "index 5 letter h\n"
     ]
    }
   ],
   "source": [
    "s = input('enter the name')\n",
    "i= 0\n",
    "for x in s:\n",
    "    if i!=0:\n",
    "        print('index',i,'letter',x)\n",
    "    i+=1"
   ]
  },
  {
   "cell_type": "code",
   "execution_count": 8,
   "metadata": {},
   "outputs": [
    {
     "name": "stdout",
     "output_type": "stream",
     "text": [
      "harris\n",
      "harris\n",
      "harris\n",
      "harris\n",
      "harris\n",
      "harris\n",
      "harris\n",
      "harris\n",
      "harris\n",
      "harris\n"
     ]
    }
   ],
   "source": [
    "\n",
    "for x in range(10):\n",
    "    print('harris')"
   ]
  },
  {
   "cell_type": "code",
   "execution_count": 9,
   "metadata": {},
   "outputs": [
    {
     "name": "stdout",
     "output_type": "stream",
     "text": [
      "1\n",
      "3\n",
      "5\n",
      "7\n",
      "9\n",
      "11\n",
      "13\n",
      "15\n",
      "17\n",
      "19\n"
     ]
    }
   ],
   "source": [
    "for x in range(21):\n",
    "    if x%2!=0:\n",
    "        print(x)"
   ]
  },
  {
   "cell_type": "code",
   "execution_count": 10,
   "metadata": {},
   "outputs": [
    {
     "name": "stdout",
     "output_type": "stream",
     "text": [
      "0\n",
      "2\n",
      "4\n",
      "6\n",
      "8\n",
      "10\n",
      "12\n",
      "14\n",
      "16\n",
      "18\n",
      "20\n"
     ]
    }
   ],
   "source": [
    "for x in range(21):\n",
    "    if x%2==0:\n",
    "        print(x)"
   ]
  },
  {
   "cell_type": "code",
   "execution_count": 19,
   "metadata": {},
   "outputs": [
    {
     "name": "stdout",
     "output_type": "stream",
     "text": [
      "1\n",
      "3\n",
      "5\n",
      "7\n",
      "9\n",
      "11\n",
      "13\n",
      "15\n",
      "17\n",
      "19\n"
     ]
    }
   ],
   "source": [
    "for x in range(1,21,2):\n",
    "    \n",
    "    print(x)"
   ]
  },
  {
   "cell_type": "code",
   "execution_count": 20,
   "metadata": {},
   "outputs": [
    {
     "name": "stdout",
     "output_type": "stream",
     "text": [
      "2\n",
      "4\n",
      "6\n",
      "8\n",
      "10\n",
      "12\n",
      "14\n",
      "16\n",
      "18\n",
      "20\n"
     ]
    }
   ],
   "source": [
    "for x in range(2,21,2):\n",
    "    \n",
    "    print(x)"
   ]
  },
  {
   "cell_type": "code",
   "execution_count": null,
   "metadata": {},
   "outputs": [],
   "source": []
  }
 ],
 "metadata": {
  "kernelspec": {
   "display_name": "Python 3",
   "language": "python",
   "name": "python3"
  },
  "language_info": {
   "codemirror_mode": {
    "name": "ipython",
    "version": 3
   },
   "file_extension": ".py",
   "mimetype": "text/x-python",
   "name": "python",
   "nbconvert_exporter": "python",
   "pygments_lexer": "ipython3",
   "version": "3.7.4"
  }
 },
 "nbformat": 4,
 "nbformat_minor": 2
}
