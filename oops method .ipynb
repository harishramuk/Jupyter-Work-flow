{
 "cells": [
  {
   "cell_type": "code",
   "execution_count": 3,
   "metadata": {},
   "outputs": [
    {
     "name": "stdout",
     "output_type": "stream",
     "text": [
      " This class written by Edyoda care all\n",
      "Help on class Member in module __main__:\n",
      "\n",
      "class Member(builtins.object)\n",
      " |  This class written by Edyoda care all\n",
      " |  \n",
      " |  Data descriptors defined here:\n",
      " |  \n",
      " |  __dict__\n",
      " |      dictionary for instance variables (if defined)\n",
      " |  \n",
      " |  __weakref__\n",
      " |      list of weak references to the object (if defined)\n",
      "\n"
     ]
    }
   ],
   "source": [
    "class Member:\n",
    "    ''' This class written by Edyoda care all'''\n",
    "print(Member.__doc__)\n",
    "help(Member)"
   ]
  },
  {
   "cell_type": "code",
   "execution_count": null,
   "metadata": {},
   "outputs": [],
   "source": [
    "class Homemets:\n",
    "    ''' thic class written by Edyoda care all'''\n",
    "    def__inti__(self):\n",
    "        self.Name='Raja'\n",
    "        self.Age=40\n",
    "        self.addressh=salem\n",
    "    def__talk__(self):\n",
    "        print('my Name is :',self.Name)\n",
    "        print('My age is :',self.Age)\n",
    "        print('My addresh:',self.addressh)\n",
    "        \n",
    "h=homemets()\n",
    "h.talk()"
   ]
  },
  {
   "cell_type": "code",
   "execution_count": null,
   "metadata": {},
   "outputs": [],
   "source": []
  }
 ],
 "metadata": {
  "kernelspec": {
   "display_name": "Python 3",
   "language": "python",
   "name": "python3"
  },
  "language_info": {
   "codemirror_mode": {
    "name": "ipython",
    "version": 3
   },
   "file_extension": ".py",
   "mimetype": "text/x-python",
   "name": "python",
   "nbconvert_exporter": "python",
   "pygments_lexer": "ipython3",
   "version": "3.7.4"
  }
 },
 "nbformat": 4,
 "nbformat_minor": 2
}
