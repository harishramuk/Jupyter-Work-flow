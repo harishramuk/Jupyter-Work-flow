{
 "cells": [
  {
   "cell_type": "code",
   "execution_count": 4,
   "metadata": {},
   "outputs": [
    {
     "name": "stdout",
     "output_type": "stream",
     "text": [
      "21\n",
      "19\n",
      "17\n",
      "15\n",
      "13\n",
      "11\n",
      "9\n",
      "7\n",
      "5\n",
      "3\n",
      "1\n"
     ]
    }
   ],
   "source": [
    "for x in range(21,0,-2):\n",
    "    \n",
    "    print(x)"
   ]
  },
  {
   "cell_type": "code",
   "execution_count": 11,
   "metadata": {},
   "outputs": [
    {
     "name": "stdout",
     "output_type": "stream",
     "text": [
      "enter the no:10,20,30\n",
      "10\n",
      "30\n",
      "60\n"
     ]
    }
   ],
   "source": [
    "s = eval(input('enter the no:'))\n",
    "sum = 0\n",
    "for x in s:\n",
    "    sum = sum +x\n",
    "    print (sum)"
   ]
  },
  {
   "cell_type": "code",
   "execution_count": 3,
   "metadata": {},
   "outputs": [
    {
     "name": "stdout",
     "output_type": "stream",
     "text": [
      "4\n",
      "6\n",
      "8\n",
      "10\n",
      "12\n",
      "14\n",
      "16\n",
      "18\n",
      "20\n",
      "22\n",
      "24\n",
      "26\n",
      "28\n",
      "30\n"
     ]
    }
   ],
   "source": [
    "#while loop\n",
    "\n",
    "x = 4\n",
    "while x<=30:\n",
    "    print(x)\n",
    "    x=x+2"
   ]
  },
  {
   "cell_type": "code",
   "execution_count": 7,
   "metadata": {},
   "outputs": [
    {
     "name": "stdout",
     "output_type": "stream",
     "text": [
      "enter the number:4\n",
      "4 10\n"
     ]
    }
   ],
   "source": [
    "n = int(input('enter the number:'))\n",
    "sum = 0\n",
    "i = 1\n",
    "while i<=n:\n",
    "    sum=sum+i\n",
    "    i+=1 \n",
    "print(n,sum)   \n",
    "# 1+2+3+4 = 10"
   ]
  },
  {
   "cell_type": "code",
   "execution_count": 10,
   "metadata": {},
   "outputs": [
    {
     "name": "stdout",
     "output_type": "stream",
     "text": [
      "enter the number:5\n",
      "sum of first 5 number is 15\n"
     ]
    }
   ],
   "source": [
    "n = int(input('enter the number:'))\n",
    "sum = 0\n",
    "i = 1\n",
    "while i<=n:\n",
    "    sum=sum+i\n",
    "    i+=1 \n",
    "print('sum of first',n,'number is', sum)   \n",
    "# 1+2+3+4+5 = 15"
   ]
  },
  {
   "cell_type": "code",
   "execution_count": 11,
   "metadata": {},
   "outputs": [
    {
     "name": "stdout",
     "output_type": "stream",
     "text": [
      "enter the number:2000\n",
      "sum of first 2000 number is 2001000\n"
     ]
    }
   ],
   "source": [
    "n = int(input('enter the number:'))\n",
    "sum = 0\n",
    "i = 1\n",
    "while i<=n:\n",
    "    sum=sum+i\n",
    "    i+=1 \n",
    "print('sum of first',n,'number is', sum)"
   ]
  },
  {
   "cell_type": "code",
   "execution_count": 12,
   "metadata": {},
   "outputs": [
    {
     "name": "stdout",
     "output_type": "stream",
     "text": [
      "enter the correct name:cyber\n",
      "enter the correct name:hack\n",
      "enter the correct name:god\n",
      "enter the correct name:harris\n",
      "thanks for conformation\n"
     ]
    }
   ],
   "source": [
    "name = ''\n",
    "while name != 'harris':\n",
    "    name=input('enter the correct name:')\n",
    "print('thanks for conformation')    \n",
    "    "
   ]
  },
  {
   "cell_type": "code",
   "execution_count": 24,
   "metadata": {},
   "outputs": [
    {
     "name": "stdout",
     "output_type": "stream",
     "text": [
      "enter the namecyber\n",
      "enter the correct name \n"
     ]
    }
   ],
   "source": [
    "name = input('enter the name')\n",
    "if name =='harris':\n",
    "    print(' hai how r u:')\n",
    "else:\n",
    "    print('enter the correct name ')\n",
    "    \n",
    "    "
   ]
  },
  {
   "cell_type": "code",
   "execution_count": 4,
   "metadata": {},
   "outputs": [
    {
     "name": "stdout",
     "output_type": "stream",
     "text": [
      "enter the correct name:hack\n",
      "enter the correct password:hack\n",
      "enter the correct name:cyber\n",
      "enter the correct password:hakk\n",
      "enter the correct name:cyber\n",
      "enter the correct password:hack\n",
      "tnk for conformation \n"
     ]
    }
   ],
   "source": [
    "name = ''\n",
    "password = ''\n",
    "while name !='cyber' or password !='hack':\n",
    "    name = input('enter the correct name:')\n",
    "    password = input ('enter the correct password:')\n",
    "print('tnk for conformation ')    \n",
    "    "
   ]
  },
  {
   "cell_type": "code",
   "execution_count": 9,
   "metadata": {},
   "outputs": [
    {
     "name": "stdout",
     "output_type": "stream",
     "text": [
      "i=0 and j=0\n",
      "i=0 and j=1\n",
      "i=0 and j=2\n",
      "i=0 and j=3\n",
      "i=1 and j=0\n",
      "i=1 and j=1\n",
      "i=1 and j=2\n",
      "i=1 and j=3\n",
      "i=2 and j=0\n",
      "i=2 and j=1\n",
      "i=2 and j=2\n",
      "i=2 and j=3\n",
      "i=3 and j=0\n",
      "i=3 and j=1\n",
      "i=3 and j=2\n",
      "i=3 and j=3\n"
     ]
    }
   ],
   "source": [
    "#Nested loop\n",
    "\n",
    "for i in range (4):\n",
    "    for j in range (4):\n",
    "        print('i={} and j={}'.format(i,j))"
   ]
  },
  {
   "cell_type": "code",
   "execution_count": 10,
   "metadata": {},
   "outputs": [
    {
     "name": "stdout",
     "output_type": "stream",
     "text": [
      "i=0 or j=0\n",
      "i=0 or j=1\n",
      "i=0 or j=2\n",
      "i=0 or j=3\n",
      "i=1 or j=0\n",
      "i=1 or j=1\n",
      "i=1 or j=2\n",
      "i=1 or j=3\n",
      "i=2 or j=0\n",
      "i=2 or j=1\n",
      "i=2 or j=2\n",
      "i=2 or j=3\n",
      "i=3 or j=0\n",
      "i=3 or j=1\n",
      "i=3 or j=2\n",
      "i=3 or j=3\n"
     ]
    }
   ],
   "source": [
    "for i in range(4):\n",
    "    for j in range(4):\n",
    "        \n",
    "        print(\"i={} or j={}\".format(i,j))"
   ]
  },
  {
   "cell_type": "code",
   "execution_count": 12,
   "metadata": {},
   "outputs": [
    {
     "name": "stdout",
     "output_type": "stream",
     "text": [
      "i=0 the j=0\n",
      "i=0 the j=1\n",
      "i=0 the j=2\n",
      "i=0 the j=3\n",
      "i=1 the j=0\n",
      "i=1 the j=1\n",
      "i=1 the j=2\n",
      "i=1 the j=3\n",
      "i=2 the j=0\n",
      "i=2 the j=1\n",
      "i=2 the j=2\n",
      "i=2 the j=3\n",
      "i=3 the j=0\n",
      "i=3 the j=1\n",
      "i=3 the j=2\n",
      "i=3 the j=3\n"
     ]
    }
   ],
   "source": [
    "for i in range(4):\n",
    "    for j in range(4):\n",
    "        \n",
    "        print(\"i={} the j={}\".format(i,j))"
   ]
  },
  {
   "cell_type": "code",
   "execution_count": 6,
   "metadata": {},
   "outputs": [
    {
     "ename": "IndentationError",
     "evalue": "expected an indented block (<ipython-input-6-14f5b8d98ed6>, line 3)",
     "output_type": "error",
     "traceback": [
      "\u001b[1;36m  File \u001b[1;32m\"<ipython-input-6-14f5b8d98ed6>\"\u001b[1;36m, line \u001b[1;32m3\u001b[0m\n\u001b[1;33m    for k in range(4):\u001b[0m\n\u001b[1;37m                      ^\u001b[0m\n\u001b[1;31mIndentationError\u001b[0m\u001b[1;31m:\u001b[0m expected an indented block\n"
     ]
    }
   ],
   "source": [
    "for i in range(4):\n",
    "    for j in range(4):\n",
    "        for k in range(4):\n",
    "        \n",
    "        print(\"i={} the j={} the k={} \".format(i,j,k))"
   ]
  },
  {
   "cell_type": "code",
   "execution_count": null,
   "metadata": {},
   "outputs": [],
   "source": []
  }
 ],
 "metadata": {
  "kernelspec": {
   "display_name": "Python 3",
   "language": "python",
   "name": "python3"
  },
  "language_info": {
   "codemirror_mode": {
    "name": "ipython",
    "version": 3
   },
   "file_extension": ".py",
   "mimetype": "text/x-python",
   "name": "python",
   "nbconvert_exporter": "python",
   "pygments_lexer": "ipython3",
   "version": "3.7.4"
  }
 },
 "nbformat": 4,
 "nbformat_minor": 2
}
