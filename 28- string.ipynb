{
 "cells": [
  {
   "cell_type": "code",
   "execution_count": 7,
   "metadata": {},
   "outputs": [
    {
     "name": "stdout",
     "output_type": "stream",
     "text": [
      "enter the name:HARRIS\n",
      "the charater present at positive index:0 at negitive index:-6 is H\n",
      "the charater present at positive index:1 at negitive index:-5 is A\n",
      "the charater present at positive index:2 at negitive index:-4 is R\n",
      "the charater present at positive index:3 at negitive index:-3 is R\n",
      "the charater present at positive index:4 at negitive index:-2 is I\n",
      "the charater present at positive index:5 at negitive index:-1 is S\n"
     ]
    }
   ],
   "source": [
    "s = input('enter the name:')\n",
    "i=0\n",
    "for x in s:\n",
    "    print('the charater present at positive index:{} at negitive index:{} is {}'.format(i,i-len(s),x))\n",
    "    i+=1"
   ]
  },
  {
   "cell_type": "code",
   "execution_count": 14,
   "metadata": {},
   "outputs": [
    {
     "data": {
      "text/plain": [
       "[9, 8, 7, 6]"
      ]
     },
     "execution_count": 14,
     "metadata": {},
     "output_type": "execute_result"
    }
   ],
   "source": [
    "S=[1,2,3,4,5,6,7,8,9]\n",
    "S[-1:-5:-1]\n"
   ]
  },
  {
   "cell_type": "code",
   "execution_count": 13,
   "metadata": {},
   "outputs": [
    {
     "data": {
      "text/plain": [
       "[]"
      ]
     },
     "execution_count": 13,
     "metadata": {},
     "output_type": "execute_result"
    }
   ],
   "source": [
    "S[-2:6:2]"
   ]
  },
  {
   "cell_type": "code",
   "execution_count": 2,
   "metadata": {},
   "outputs": [
    {
     "data": {
      "text/plain": [
       "[2, 4, 6]"
      ]
     },
     "execution_count": 2,
     "metadata": {},
     "output_type": "execute_result"
    }
   ],
   "source": [
    "S=[1,2,3,4,5,6,7,8,9]\n",
    "S[1:6: 2]"
   ]
  },
  {
   "cell_type": "code",
   "execution_count": 16,
   "metadata": {},
   "outputs": [
    {
     "data": {
      "text/plain": [
       "[3, 4]"
      ]
     },
     "execution_count": 16,
     "metadata": {},
     "output_type": "execute_result"
    }
   ],
   "source": [
    "S[2:-5:1]"
   ]
  },
  {
   "cell_type": "code",
   "execution_count": 1,
   "metadata": {},
   "outputs": [
    {
     "name": "stdout",
     "output_type": "stream",
     "text": [
      "enter the string:harishkumar\n",
      "charaters at even position: hrskmr\n",
      "charaters at odd position: aihua\n"
     ]
    }
   ],
   "source": [
    "#to print character at odd position and even position for given string\n",
    "\n",
    "s = input('enter the string:')\n",
    "print('charaters at even position:',s[0::2]) #0,2,4,5\n",
    "print('charaters at odd position:',s[1::2])#1,3,5,7\n"
   ]
  },
  {
   "cell_type": "code",
   "execution_count": 11,
   "metadata": {},
   "outputs": [
    {
     "name": "stdout",
     "output_type": "stream",
     "text": [
      "enter the string:harish\n",
      "charater at even position\n",
      "h 0\n",
      "r 2\n",
      "s 4\n"
     ]
    }
   ],
   "source": [
    "s = input('enter the string:')\n",
    "print('charater at even position')\n",
    "i=0\n",
    "while i<len(s):\n",
    "    print(s[i],i)\n",
    "    i=i+2"
   ]
  },
  {
   "cell_type": "code",
   "execution_count": 13,
   "metadata": {},
   "outputs": [
    {
     "name": "stdout",
     "output_type": "stream",
     "text": [
      "enter the string:harish\n",
      "charater at even position\n",
      "h 0\n",
      "r 2\n",
      "s 4\n",
      "charater at odd position\n",
      "a 1\n",
      "i 3\n",
      "h 5\n"
     ]
    }
   ],
   "source": [
    "s = input('enter the string:')\n",
    "print('charater at even position')\n",
    "i=0\n",
    "while i<len(s):\n",
    "    print(s[i],i)\n",
    "    i=i+2\n",
    "print('charater at odd position')\n",
    "i=1\n",
    "while i<len(s):\n",
    "    print(s[i],i)\n",
    "    i=i+2"
   ]
  },
  {
   "cell_type": "code",
   "execution_count": 5,
   "metadata": {},
   "outputs": [
    {
     "name": "stdout",
     "output_type": "stream",
     "text": [
      "enter the string:harris\n",
      "charater at even position\n",
      "h*r*i*\n",
      "charater at even position\n",
      "a,r,s,"
     ]
    }
   ],
   "source": [
    "s = input('enter the string:')\n",
    "print('charater at even position')\n",
    "i=0\n",
    "while i<len(s):\n",
    "    print(s[i],end=\"*\")\n",
    "    i=i+2\n",
    "print()\n",
    "print('charater at even position')\n",
    "i=1\n",
    "while i<len(s):\n",
    "    print(s[i],end=\",\")\n",
    "    i=i+2    "
   ]
  },
  {
   "cell_type": "code",
   "execution_count": 7,
   "metadata": {},
   "outputs": [
    {
     "name": "stdout",
     "output_type": "stream",
     "text": [
      "enter the first string:harish\n",
      "enter the second string:123456\n",
      "h1a2r3i4s5h6\n"
     ]
    }
   ],
   "source": [
    "# merge  string merge\n",
    "#in character letters count in same ex = harish-->6 leters,--1,2,3,4,5,6--->6 numbers so same \n",
    "#string are having same lenth is this logic going to work\n",
    "\n",
    "s1=input('enter the first string:')\n",
    "s2=input ('enter the second string:')\n",
    "output =''\n",
    "i,j=0,0\n",
    "while i<len(s1) or j<len(s2):\n",
    "    \n",
    "    output=output+s1[i]+s2[j]\n",
    "    i=i+1\n",
    "    j=j+1\n",
    "print(output)    "
   ]
  },
  {
   "cell_type": "code",
   "execution_count": 10,
   "metadata": {},
   "outputs": [
    {
     "name": "stdout",
     "output_type": "stream",
     "text": [
      "enter the first string:harish\n",
      "enter the second string:12345678\n",
      "h1a2r3i4s5h678\n"
     ]
    }
   ],
   "source": [
    "s1=input('enter the first string:')\n",
    "s2=input ('enter the second string:')\n",
    "output =''\n",
    "i,j=0,0\n",
    "while i<len(s1) or j<len(s2):\n",
    "    if i<len(s1):\n",
    "        output=output+s1[i]\n",
    "        i=i+1\n",
    "    if j<len(s2):\n",
    "        output=output+s2[j]\n",
    "        j=j+1\n",
    "print(output)        "
   ]
  },
  {
   "cell_type": "code",
   "execution_count": 1,
   "metadata": {},
   "outputs": [
    {
     "name": "stdout",
     "output_type": "stream",
     "text": [
      "enter any string of alpha numeric charaters H3A5R1IS9H\n",
      "HARISH\n",
      "3519\n"
     ]
    }
   ],
   "source": [
    "s= input('enter any string of alpha numeric charaters ')\n",
    "s1=s2=output=''\n",
    "for i in s:\n",
    "    if i.isalpha():\n",
    "        s1=s1+i\n",
    "    else:\n",
    "        s2=s2+i\n",
    "print(s1)\n",
    "print(s2)"
   ]
  },
  {
   "cell_type": "code",
   "execution_count": 3,
   "metadata": {},
   "outputs": [
    {
     "name": "stdout",
     "output_type": "stream",
     "text": [
      "enter any string of alpha numeric charaters H7A3R9I4SH\n",
      "['A', 'H', 'H', 'I', 'R', 'S']\n",
      "['3', '4', '7', '9']\n"
     ]
    }
   ],
   "source": [
    "s= input('enter any string of alpha numeric charaters ')\n",
    "s1=s2=output=''\n",
    "for i in s:\n",
    "    if i.isalpha():\n",
    "        s1=s1+i\n",
    "    else:\n",
    "        s2=s2+i\n",
    "print(sorted(s1))\n",
    "print(sorted(s2))\n",
    "    "
   ]
  },
  {
   "cell_type": "code",
   "execution_count": 5,
   "metadata": {},
   "outputs": [
    {
     "name": "stdout",
     "output_type": "stream",
     "text": [
      "enter any string of alpha numeric charaters E9F3B4D0C5A2\n",
      "ABCDEF023459\n"
     ]
    }
   ],
   "source": [
    "s= input('enter any string of alpha numeric charaters ')\n",
    "s1=s2=output=''\n",
    "for i in s:\n",
    "    if i.isalpha():\n",
    "        s1=s1+i\n",
    "    else:\n",
    "        s2=s2+i\n",
    "for i in sorted(s1):\n",
    "    output = output+i\n",
    "for i in sorted (s2):\n",
    "    output = output+i\n",
    "print(output)    "
   ]
  },
  {
   "cell_type": "code",
   "execution_count": 1,
   "metadata": {},
   "outputs": [
    {
     "name": "stdout",
     "output_type": "stream",
     "text": [
      "enter any string of alpha numeric charaters 9F8E4C5D2A1B\n",
      "124589ABCDEF\n"
     ]
    }
   ],
   "source": [
    "\n",
    "s= input('enter any string of alpha numeric charaters ')\n",
    "s1=s2=output=''\n",
    "for i in s:\n",
    "    if i.isnumeric():\n",
    "        s1=s1+i\n",
    "    else:\n",
    "        s2=s2+i\n",
    "for i in sorted(s1):\n",
    "    output = output+i\n",
    "for i in sorted (s2):\n",
    "    output = output+i\n",
    "print(output)    "
   ]
  },
  {
   "cell_type": "code",
   "execution_count": 7,
   "metadata": {},
   "outputs": [
    {
     "name": "stdout",
     "output_type": "stream",
     "text": [
      "enter any string of alpha numeric charaters A4B3C2\n",
      "AAAABBBCC\n"
     ]
    }
   ],
   "source": [
    "s= input('enter any string of alpha numeric charaters ')\n",
    "output =''\n",
    "for i in s:\n",
    "    if i.isalpha():\n",
    "        char=i\n",
    "    else:\n",
    "        output = output+char* int(i)\n",
    "print(output)        "
   ]
  },
  {
   "cell_type": "code",
   "execution_count": 8,
   "metadata": {},
   "outputs": [
    {
     "name": "stdout",
     "output_type": "stream",
     "text": [
      "enter any string of alpha numeric charaters AB5CD3E2\n",
      "BBBBBDDDEE\n"
     ]
    }
   ],
   "source": [
    "s= input('enter any string of alpha numeric charaters ')\n",
    "output =''\n",
    "for i in s:\n",
    "    if i.isalpha():\n",
    "        char=i\n",
    "    else:\n",
    "        output = output+char* int(i)\n",
    "print(output)"
   ]
  },
  {
   "cell_type": "code",
   "execution_count": 10,
   "metadata": {},
   "outputs": [
    {
     "name": "stdout",
     "output_type": "stream",
     "text": [
      "enter any string of alpha numeric charaters a4c3b2\n",
      "['a', 'a', 'a', 'a', 'b', 'b', 'c', 'c', 'c']\n"
     ]
    }
   ],
   "source": [
    "s= input('enter any string of alpha numeric charaters ')\n",
    "output =''\n",
    "for i in s:\n",
    "    if i.isalpha():\n",
    "        char=i\n",
    "    else:\n",
    "        output = output+char* int(i)\n",
    "ss = sorted(output)\n",
    "print(ss)\n"
   ]
  },
  {
   "cell_type": "code",
   "execution_count": 11,
   "metadata": {},
   "outputs": [
    {
     "name": "stdout",
     "output_type": "stream",
     "text": [
      "enter any string of alpha numeric charaters A4c3d2b1\n",
      "AAAAbcccdd\n"
     ]
    }
   ],
   "source": [
    "s= input('enter any string of alpha numeric charaters ')\n",
    "output =''\n",
    "l=[]\n",
    "for i in s:\n",
    "    if i.isalpha():\n",
    "        char=i\n",
    "    else:\n",
    "        output = output+char* int(i)\n",
    "        l.append(output)\n",
    "        output=''\n",
    "target=''.join(sorted(l))\n",
    "print(target)\n",
    "        "
   ]
  },
  {
   "cell_type": "code",
   "execution_count": 13,
   "metadata": {},
   "outputs": [
    {
     "name": "stdout",
     "output_type": "stream",
     "text": [
      "enter any string of alpha numeric charaters a5d3c2b1e4\n",
      "aaaaabccdddeeee\n"
     ]
    }
   ],
   "source": [
    "s= input('enter any string of alpha numeric charaters ')\n",
    "output =''\n",
    "for i in s:\n",
    "    if i.isalpha():\n",
    "        char=i\n",
    "    else:\n",
    "        output = output+char* int(i)\n",
    "print (''.join(sorted(output)))       "
   ]
  },
  {
   "cell_type": "code",
   "execution_count": 14,
   "metadata": {},
   "outputs": [
    {
     "name": "stdout",
     "output_type": "stream",
     "text": [
      "aabbaba 91121328\n",
      "ccbbcbc 91122864\n"
     ]
    }
   ],
   "source": [
    "s='aabbaba'\n",
    "s1=s.replace('a','c')\n",
    "print(s,id(s))\n",
    "print(s1,id(s1))"
   ]
  },
  {
   "cell_type": "code",
   "execution_count": 26,
   "metadata": {},
   "outputs": [
    {
     "name": "stdout",
     "output_type": "stream",
     "text": [
      "enter some string:a6\n",
      "ag\n"
     ]
    }
   ],
   "source": [
    "s=input('enter some string:')\n",
    "output=''\n",
    "for x in s:\n",
    "    if x.isalpha():\n",
    "        output=output+x\n",
    "        previous=x\n",
    "    else:\n",
    "        newch=chr(ord(previous)+int(x))\n",
    "        output=output+newch\n",
    "print(output)        \n"
   ]
  },
  {
   "cell_type": "code",
   "execution_count": null,
   "metadata": {},
   "outputs": [],
   "source": []
  }
 ],
 "metadata": {
  "kernelspec": {
   "display_name": "Python 3",
   "language": "python",
   "name": "python3"
  },
  "language_info": {
   "codemirror_mode": {
    "name": "ipython",
    "version": 3
   },
   "file_extension": ".py",
   "mimetype": "text/x-python",
   "name": "python",
   "nbconvert_exporter": "python",
   "pygments_lexer": "ipython3",
   "version": "3.7.4"
  }
 },
 "nbformat": 4,
 "nbformat_minor": 2
}
